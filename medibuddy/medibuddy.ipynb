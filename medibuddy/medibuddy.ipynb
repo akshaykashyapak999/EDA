{
 "cells": [
  {
   "cell_type": "markdown",
   "id": "88c4cf69-8652-4073-8cde-4be6cf801b81",
   "metadata": {},
   "source": [
    "<div class=\"alert alert-block alert-info\" style=\"margin-top: 20px\"><h1>medibuddy</h1></div>"
   ]
  },
  {
   "cell_type": "markdown",
   "id": "0d39bd0a-6342-4fe8-a22d-346a53d98997",
   "metadata": {},
   "source": [
    "<div class=\"alert alert-block alert-danger\" style=\"margin-top: 20px\">\n",
    "1. Does the gender of the person matter for the company as a constraint for \n",
    "extending policies?<br>\n",
    "2. What is the average amount of money the company spent over each policy \n",
    "cover?<br>\n",
    "3. Could you advice if the company needs to offer separate policies based upon the \n",
    "geographic location of the person?<br>\n",
    "4. Does the no. of dependents make a difference in the amount claimed?<br>\n",
    "5. Does a study of persons BMI get the company any idea for the insurance claim \n",
    "that it would extend?<br>\n",
    "6. Is it needed for the company to understand whether the person covered is a \n",
    "smoker or a non-smoker?<br>\n",
    "7. Does age have any barrier on the insurance claimed?<br>\n",
    "8. Can the company extend certain discounts after checking the health status \n",
    "(BMI) in this case?<br>\n",
    "</div>"
   ]
  },
  {
   "cell_type": "code",
   "execution_count": 1,
   "id": "a9f988d8-c71c-4980-817e-6b1eee65344d",
   "metadata": {},
   "outputs": [],
   "source": [
    "import pandas as pd\n",
    "import numpy as np\n",
    "import matplotlib.pyplot as plt \n",
    "import seaborn as sns "
   ]
  },
  {
   "cell_type": "code",
   "execution_count": 2,
   "id": "b2c28ba4-227e-4747-be0e-59bf855ce660",
   "metadata": {},
   "outputs": [
    {
     "data": {
      "text/html": [
       "<div>\n",
       "<style scoped>\n",
       "    .dataframe tbody tr th:only-of-type {\n",
       "        vertical-align: middle;\n",
       "    }\n",
       "\n",
       "    .dataframe tbody tr th {\n",
       "        vertical-align: top;\n",
       "    }\n",
       "\n",
       "    .dataframe thead th {\n",
       "        text-align: right;\n",
       "    }\n",
       "</style>\n",
       "<table border=\"1\" class=\"dataframe\">\n",
       "  <thead>\n",
       "    <tr style=\"text-align: right;\">\n",
       "      <th></th>\n",
       "      <th>Policy no.</th>\n",
       "      <th>age</th>\n",
       "      <th>sex</th>\n",
       "      <th>bmi</th>\n",
       "      <th>charges in INR</th>\n",
       "    </tr>\n",
       "  </thead>\n",
       "  <tbody>\n",
       "    <tr>\n",
       "      <th>0</th>\n",
       "      <td>PLC156898</td>\n",
       "      <td>19</td>\n",
       "      <td>female</td>\n",
       "      <td>27.900</td>\n",
       "      <td>16884.92400</td>\n",
       "    </tr>\n",
       "    <tr>\n",
       "      <th>1</th>\n",
       "      <td>PLC156907</td>\n",
       "      <td>18</td>\n",
       "      <td>male</td>\n",
       "      <td>33.770</td>\n",
       "      <td>1725.55230</td>\n",
       "    </tr>\n",
       "    <tr>\n",
       "      <th>2</th>\n",
       "      <td>PLC156916</td>\n",
       "      <td>28</td>\n",
       "      <td>male</td>\n",
       "      <td>33.000</td>\n",
       "      <td>4449.46200</td>\n",
       "    </tr>\n",
       "    <tr>\n",
       "      <th>3</th>\n",
       "      <td>PLC156925</td>\n",
       "      <td>33</td>\n",
       "      <td>male</td>\n",
       "      <td>22.705</td>\n",
       "      <td>21984.47061</td>\n",
       "    </tr>\n",
       "    <tr>\n",
       "      <th>4</th>\n",
       "      <td>PLC156934</td>\n",
       "      <td>32</td>\n",
       "      <td>male</td>\n",
       "      <td>28.880</td>\n",
       "      <td>3866.85520</td>\n",
       "    </tr>\n",
       "  </tbody>\n",
       "</table>\n",
       "</div>"
      ],
      "text/plain": [
       "  Policy no.  age     sex     bmi  charges in INR\n",
       "0  PLC156898   19  female  27.900     16884.92400\n",
       "1  PLC156907   18    male  33.770      1725.55230\n",
       "2  PLC156916   28    male  33.000      4449.46200\n",
       "3  PLC156925   33    male  22.705     21984.47061\n",
       "4  PLC156934   32    male  28.880      3866.85520"
      ]
     },
     "execution_count": 2,
     "metadata": {},
     "output_type": "execute_result"
    }
   ],
   "source": [
    "df1 = pd.read_excel('Data/Medibuddy Insurance Data Price (1) (2).xlsx')\n",
    "df1.head()"
   ]
  },
  {
   "cell_type": "code",
   "execution_count": 3,
   "id": "63123077-7707-48ce-bde2-78b0907cd5a2",
   "metadata": {},
   "outputs": [
    {
     "data": {
      "text/html": [
       "<div>\n",
       "<style scoped>\n",
       "    .dataframe tbody tr th:only-of-type {\n",
       "        vertical-align: middle;\n",
       "    }\n",
       "\n",
       "    .dataframe tbody tr th {\n",
       "        vertical-align: top;\n",
       "    }\n",
       "\n",
       "    .dataframe thead th {\n",
       "        text-align: right;\n",
       "    }\n",
       "</style>\n",
       "<table border=\"1\" class=\"dataframe\">\n",
       "  <thead>\n",
       "    <tr style=\"text-align: right;\">\n",
       "      <th></th>\n",
       "      <th>Policy no.</th>\n",
       "      <th>children</th>\n",
       "      <th>smoker</th>\n",
       "      <th>region</th>\n",
       "    </tr>\n",
       "  </thead>\n",
       "  <tbody>\n",
       "    <tr>\n",
       "      <th>0</th>\n",
       "      <td>PLC157006</td>\n",
       "      <td>0</td>\n",
       "      <td>no</td>\n",
       "      <td>southwest</td>\n",
       "    </tr>\n",
       "    <tr>\n",
       "      <th>1</th>\n",
       "      <td>PLC157033</td>\n",
       "      <td>1</td>\n",
       "      <td>no</td>\n",
       "      <td>southwest</td>\n",
       "    </tr>\n",
       "    <tr>\n",
       "      <th>2</th>\n",
       "      <td>PLC157060</td>\n",
       "      <td>0</td>\n",
       "      <td>no</td>\n",
       "      <td>southwest</td>\n",
       "    </tr>\n",
       "    <tr>\n",
       "      <th>3</th>\n",
       "      <td>PLC157087</td>\n",
       "      <td>1</td>\n",
       "      <td>no</td>\n",
       "      <td>southwest</td>\n",
       "    </tr>\n",
       "    <tr>\n",
       "      <th>4</th>\n",
       "      <td>PLC157186</td>\n",
       "      <td>5</td>\n",
       "      <td>no</td>\n",
       "      <td>southwest</td>\n",
       "    </tr>\n",
       "  </tbody>\n",
       "</table>\n",
       "</div>"
      ],
      "text/plain": [
       "  Policy no.  children smoker     region\n",
       "0  PLC157006         0     no  southwest\n",
       "1  PLC157033         1     no  southwest\n",
       "2  PLC157060         0     no  southwest\n",
       "3  PLC157087         1     no  southwest\n",
       "4  PLC157186         5     no  southwest"
      ]
     },
     "execution_count": 3,
     "metadata": {},
     "output_type": "execute_result"
    }
   ],
   "source": [
    "df2 = pd.read_excel('Data/Medibuddy insurance data personal details (1) (2).xlsx')\n",
    "df2.head()"
   ]
  },
  {
   "cell_type": "code",
   "execution_count": 4,
   "id": "e05fc4fc-eb33-4760-b911-5f17eb4003cc",
   "metadata": {},
   "outputs": [
    {
     "data": {
      "text/plain": [
       "(1338, 5)"
      ]
     },
     "execution_count": 4,
     "metadata": {},
     "output_type": "execute_result"
    }
   ],
   "source": [
    "df1.shape"
   ]
  },
  {
   "cell_type": "code",
   "execution_count": 5,
   "id": "bb0f32a0-8b8f-44b8-b4da-ef8c54be9743",
   "metadata": {},
   "outputs": [
    {
     "data": {
      "text/plain": [
       "(1338, 4)"
      ]
     },
     "execution_count": 5,
     "metadata": {},
     "output_type": "execute_result"
    }
   ],
   "source": [
    "df2.shape"
   ]
  },
  {
   "cell_type": "code",
   "execution_count": 6,
   "id": "0d22f41a-f5ef-4812-abb2-41ce6437cc53",
   "metadata": {},
   "outputs": [
    {
     "data": {
      "text/plain": [
       "Policy no.        0\n",
       "age               0\n",
       "sex               0\n",
       "bmi               0\n",
       "charges in INR    0\n",
       "dtype: int64"
      ]
     },
     "execution_count": 6,
     "metadata": {},
     "output_type": "execute_result"
    }
   ],
   "source": [
    "df1.isnull().sum()"
   ]
  },
  {
   "cell_type": "code",
   "execution_count": 7,
   "id": "42fd5c47-6da5-4f91-b88c-ae72a474c6ae",
   "metadata": {},
   "outputs": [
    {
     "data": {
      "text/plain": [
       "Policy no.    0\n",
       "children      0\n",
       "smoker        0\n",
       "region        0\n",
       "dtype: int64"
      ]
     },
     "execution_count": 7,
     "metadata": {},
     "output_type": "execute_result"
    }
   ],
   "source": [
    "df2.isnull().sum()"
   ]
  },
  {
   "cell_type": "code",
   "execution_count": 8,
   "id": "4d3532c7-e7ff-4127-a498-1ee2c78d4e0d",
   "metadata": {},
   "outputs": [],
   "source": [
    "merge = pd.merge(df1,df2, on = \"Policy no.\", how='outer')"
   ]
  },
  {
   "cell_type": "code",
   "execution_count": 9,
   "id": "14142d60-8cdc-4412-9c12-292c69448904",
   "metadata": {},
   "outputs": [
    {
     "data": {
      "text/html": [
       "<div>\n",
       "<style scoped>\n",
       "    .dataframe tbody tr th:only-of-type {\n",
       "        vertical-align: middle;\n",
       "    }\n",
       "\n",
       "    .dataframe tbody tr th {\n",
       "        vertical-align: top;\n",
       "    }\n",
       "\n",
       "    .dataframe thead th {\n",
       "        text-align: right;\n",
       "    }\n",
       "</style>\n",
       "<table border=\"1\" class=\"dataframe\">\n",
       "  <thead>\n",
       "    <tr style=\"text-align: right;\">\n",
       "      <th></th>\n",
       "      <th>Policy no.</th>\n",
       "      <th>age</th>\n",
       "      <th>sex</th>\n",
       "      <th>bmi</th>\n",
       "      <th>charges in INR</th>\n",
       "      <th>children</th>\n",
       "      <th>smoker</th>\n",
       "      <th>region</th>\n",
       "    </tr>\n",
       "  </thead>\n",
       "  <tbody>\n",
       "    <tr>\n",
       "      <th>0</th>\n",
       "      <td>PLC156898</td>\n",
       "      <td>19</td>\n",
       "      <td>female</td>\n",
       "      <td>27.900</td>\n",
       "      <td>16884.92400</td>\n",
       "      <td>0</td>\n",
       "      <td>yes</td>\n",
       "      <td>southwest</td>\n",
       "    </tr>\n",
       "    <tr>\n",
       "      <th>1</th>\n",
       "      <td>PLC156907</td>\n",
       "      <td>18</td>\n",
       "      <td>male</td>\n",
       "      <td>33.770</td>\n",
       "      <td>1725.55230</td>\n",
       "      <td>1</td>\n",
       "      <td>no</td>\n",
       "      <td>southeast</td>\n",
       "    </tr>\n",
       "    <tr>\n",
       "      <th>2</th>\n",
       "      <td>PLC156916</td>\n",
       "      <td>28</td>\n",
       "      <td>male</td>\n",
       "      <td>33.000</td>\n",
       "      <td>4449.46200</td>\n",
       "      <td>3</td>\n",
       "      <td>no</td>\n",
       "      <td>southeast</td>\n",
       "    </tr>\n",
       "    <tr>\n",
       "      <th>3</th>\n",
       "      <td>PLC156925</td>\n",
       "      <td>33</td>\n",
       "      <td>male</td>\n",
       "      <td>22.705</td>\n",
       "      <td>21984.47061</td>\n",
       "      <td>0</td>\n",
       "      <td>no</td>\n",
       "      <td>northwest</td>\n",
       "    </tr>\n",
       "    <tr>\n",
       "      <th>4</th>\n",
       "      <td>PLC156934</td>\n",
       "      <td>32</td>\n",
       "      <td>male</td>\n",
       "      <td>28.880</td>\n",
       "      <td>3866.85520</td>\n",
       "      <td>0</td>\n",
       "      <td>no</td>\n",
       "      <td>northwest</td>\n",
       "    </tr>\n",
       "  </tbody>\n",
       "</table>\n",
       "</div>"
      ],
      "text/plain": [
       "  Policy no.  age     sex     bmi  charges in INR  children smoker     region\n",
       "0  PLC156898   19  female  27.900     16884.92400         0    yes  southwest\n",
       "1  PLC156907   18    male  33.770      1725.55230         1     no  southeast\n",
       "2  PLC156916   28    male  33.000      4449.46200         3     no  southeast\n",
       "3  PLC156925   33    male  22.705     21984.47061         0     no  northwest\n",
       "4  PLC156934   32    male  28.880      3866.85520         0     no  northwest"
      ]
     },
     "execution_count": 9,
     "metadata": {},
     "output_type": "execute_result"
    }
   ],
   "source": [
    "merge.head()"
   ]
  },
  {
   "cell_type": "code",
   "execution_count": 10,
   "id": "15444f32-19e6-4797-9515-7aa722565965",
   "metadata": {},
   "outputs": [
    {
     "data": {
      "text/plain": [
       "(1338, 8)"
      ]
     },
     "execution_count": 10,
     "metadata": {},
     "output_type": "execute_result"
    }
   ],
   "source": [
    "merge.shape"
   ]
  },
  {
   "cell_type": "code",
   "execution_count": 11,
   "id": "97258e82-d80b-43f1-a511-6d2537d7b25c",
   "metadata": {},
   "outputs": [
    {
     "data": {
      "text/plain": [
       "sex\n",
       "male      676\n",
       "female    662\n",
       "Name: count, dtype: int64"
      ]
     },
     "execution_count": 11,
     "metadata": {},
     "output_type": "execute_result"
    }
   ],
   "source": [
    "merge.sex.value_counts()"
   ]
  },
  {
   "cell_type": "code",
   "execution_count": 12,
   "id": "e3da39e7-4b0c-45c2-b04c-ef6ccc707514",
   "metadata": {},
   "outputs": [
    {
     "data": {
      "text/plain": [
       "sex\n",
       "female    12569.578844\n",
       "male      13956.751178\n",
       "Name: charges in INR, dtype: float64"
      ]
     },
     "execution_count": 12,
     "metadata": {},
     "output_type": "execute_result"
    }
   ],
   "source": [
    "merge.groupby('sex')['charges in INR'].mean()"
   ]
  },
  {
   "cell_type": "code",
   "execution_count": 13,
   "id": "096e42e6-ac99-441a-9821-42c91d50b2e9",
   "metadata": {},
   "outputs": [
    {
     "data": {
      "text/plain": [
       "<Axes: xlabel='sex', ylabel='charges in INR'>"
      ]
     },
     "execution_count": 13,
     "metadata": {},
     "output_type": "execute_result"
    },
    {
     "data": {
      "image/png": "[encoded data removed]",
      "text/plain": [
       "<Figure size 640x480 with 1 Axes>"
      ]
     },
     "metadata": {},
     "output_type": "display_data"
    }
   ],
   "source": [
    "sns.barplot(merge.groupby('sex')['charges in INR'].mean())"
   ]
  },
  {
   "cell_type": "markdown",
   "id": "ffab0ca9-49b3-45ab-9fb4-34652a0a94d6",
   "metadata": {},
   "source": [
    "`Observation`: Gender is not a constraint for the company for policy, however there is slightly difference in the term of cost incurred by calculating mean cost of both sexes(i.e male: 13956.76, female: 12569.58)"
   ]
  },
  {
   "cell_type": "code",
   "execution_count": 14,
   "id": "049ae3ad-bdef-473c-99af-a93790fb1493",
   "metadata": {},
   "outputs": [
    {
     "data": {
      "text/plain": [
       "13270.422265141257"
      ]
     },
     "execution_count": 14,
     "metadata": {},
     "output_type": "execute_result"
    }
   ],
   "source": [
    "merge['charges in INR'].mean()"
   ]
  },
  {
   "cell_type": "markdown",
   "id": "eb5bbdfb-8277-4456-a521-27affbfc9fd0",
   "metadata": {},
   "source": [
    "`Observation`: The average amount of money the company spent over each policy cover is about `13270.5` rupees"
   ]
  },
  {
   "cell_type": "code",
   "execution_count": 15,
   "id": "6f4b860d-ff54-4e64-9072-8e848d1b2e89",
   "metadata": {},
   "outputs": [
    {
     "data": {
      "text/plain": [
       "region\n",
       "southeast    364\n",
       "southwest    325\n",
       "northwest    325\n",
       "northeast    324\n",
       "Name: count, dtype: int64"
      ]
     },
     "execution_count": 15,
     "metadata": {},
     "output_type": "execute_result"
    }
   ],
   "source": [
    "# advice if the company needs to offer separate policies based upon the geographic location of the person?\n",
    "merge.region.value_counts()"
   ]
  },
  {
   "cell_type": "markdown",
   "id": "d8f9b7f8-f08b-4d78-bf66-062e0d45958c",
   "metadata": {},
   "source": [
    "`Observation`: most of the policy are sold in `southeast`, but `not with significant difference` with other region."
   ]
  },
  {
   "cell_type": "code",
   "execution_count": 16,
   "id": "ea757e03-6505-4a22-97a1-a95201d8417d",
   "metadata": {},
   "outputs": [
    {
     "data": {
      "text/plain": [
       "children\n",
       "0    12365.975602\n",
       "1    12731.171832\n",
       "2    15073.563734\n",
       "3    15355.318367\n",
       "4    13850.656311\n",
       "5     8786.035247\n",
       "Name: charges in INR, dtype: float64"
      ]
     },
     "execution_count": 16,
     "metadata": {},
     "output_type": "execute_result"
    }
   ],
   "source": [
    " # Does the no. of dependents make a difference in the amount claimed\n",
    "merge.groupby('children')['charges in INR'].mean()"
   ]
  },
  {
   "cell_type": "code",
   "execution_count": 17,
   "id": "7443161f-5620-448a-9ab7-d11fced0b21f",
   "metadata": {},
   "outputs": [
    {
     "data": {
      "text/plain": [
       "<Axes: xlabel='children', ylabel='charges in INR'>"
      ]
     },
     "execution_count": 17,
     "metadata": {},
     "output_type": "execute_result"
    },
    {
     "data": {
      "image/png": "[encoded data removed]",
      "text/plain": [
       "<Figure size 640x480 with 1 Axes>"
      ]
     },
     "metadata": {},
     "output_type": "display_data"
    }
   ],
   "source": [
    "sns.barplot(merge.groupby('children')['charges in INR'].mean())"
   ]
  },
  {
   "cell_type": "markdown",
   "id": "642d6f1f-1825-4780-b2f7-bf20a2e9b79f",
   "metadata": {},
   "source": [
    "`Observation`: The amout increases as the number of children increases , but upto `3` childern only, after that it decrease on 4 , and drastic drop when its 5 which is also lowest"
   ]
  },
  {
   "cell_type": "code",
   "execution_count": 18,
   "id": "904e2b76-586a-4f99-9b0b-c7687946abdc",
   "metadata": {},
   "outputs": [
    {
     "data": {
      "text/plain": [
       "bmi\n",
       "15.960     1694.796400\n",
       "16.815     4904.000350\n",
       "17.195    14455.644050\n",
       "17.290     7813.353433\n",
       "17.385     2775.192150\n",
       "              ...     \n",
       "48.070     9432.925300\n",
       "49.060    11381.325400\n",
       "50.380     2438.055200\n",
       "52.580    44501.398200\n",
       "53.130     1163.462700\n",
       "Name: charges in INR, Length: 548, dtype: float64"
      ]
     },
     "execution_count": 18,
     "metadata": {},
     "output_type": "execute_result"
    }
   ],
   "source": [
    "# Does a study of persons BMI get the company any idea for the insurance claim that it would extend?\n",
    "\n",
    "merge.groupby('bmi')['charges in INR'].mean()"
   ]
  },
  {
   "cell_type": "code",
   "execution_count": 19,
   "id": "7a0e2b71-60df-4b30-9dc4-06695f584a57",
   "metadata": {},
   "outputs": [
    {
     "data": {
      "text/plain": [
       "<Axes: xlabel='bmi', ylabel='charges in INR'>"
      ]
     },
     "execution_count": 19,
     "metadata": {},
     "output_type": "execute_result"
    },
    {
     "data": {
      "image/png": "[encoded data removed]",
      "text/plain": [
       "<Figure size 640x480 with 1 Axes>"
      ]
     },
     "metadata": {},
     "output_type": "display_data"
    }
   ],
   "source": [
    "sns.barplot(x='bmi',y='charges in INR', data=merge)"
   ]
  },
  {
   "cell_type": "markdown",
   "id": "fcb3d999-bfef-49f1-a103-71a3070b378b",
   "metadata": {},
   "source": [
    "`Observation`: there is no clear linear trends , but on large view as bmi increases charges increase( there are lot of exceptions)"
   ]
  },
  {
   "cell_type": "code",
   "execution_count": 20,
   "id": "5ba693cc-17b5-49ff-8dca-ae7e564f0630",
   "metadata": {},
   "outputs": [
    {
     "data": {
      "text/plain": [
       "smoker\n",
       "no     1064\n",
       "yes     274\n",
       "Name: count, dtype: int64"
      ]
     },
     "execution_count": 20,
     "metadata": {},
     "output_type": "execute_result"
    }
   ],
   "source": [
    "# it needed for the company to understand whether the person covered is a smoker or a non-smoker\n",
    "merge.smoker.value_counts()"
   ]
  },
  {
   "cell_type": "code",
   "execution_count": 21,
   "id": "58cf17b8-b0d5-48b8-b25f-1619d6c4f4cb",
   "metadata": {},
   "outputs": [
    {
     "data": {
      "text/plain": [
       "<Axes: xlabel='smoker', ylabel='count'>"
      ]
     },
     "execution_count": 21,
     "metadata": {},
     "output_type": "execute_result"
    },
    {
     "data": {
      "image/png": "[encoded data removed]",
      "text/plain": [
       "<Figure size 640x480 with 1 Axes>"
      ]
     },
     "metadata": {},
     "output_type": "display_data"
    }
   ],
   "source": [
    "sns.barplot(merge.smoker.value_counts())"
   ]
  },
  {
   "cell_type": "code",
   "execution_count": 22,
   "id": "918fd6ec-6deb-4f2a-ac07-44ef62dd4479",
   "metadata": {},
   "outputs": [
    {
     "data": {
      "text/plain": [
       "smoker\n",
       "no      8434.268298\n",
       "yes    32050.231832\n",
       "Name: charges in INR, dtype: float64"
      ]
     },
     "execution_count": 22,
     "metadata": {},
     "output_type": "execute_result"
    }
   ],
   "source": [
    "merge.groupby('smoker')['charges in INR'].mean()"
   ]
  },
  {
   "cell_type": "markdown",
   "id": "be4fece7-a8bc-42a5-9a6f-b5473e29d2bb",
   "metadata": {},
   "source": [
    "`Observation`: the charges for smoker is almost 4X high than the non smoker, whereas policy taken by non smoker is 4 times in number as compare to smoker,  only 20%(approx) ploicy sold to smoker at avearge price of 32050.23 "
   ]
  },
  {
   "cell_type": "code",
   "execution_count": 23,
   "id": "d7b0c766-9ab8-46a5-a934-692336c7a94f",
   "metadata": {},
   "outputs": [
    {
     "data": {
      "text/plain": [
       "age\n",
       "18    69\n",
       "19    68\n",
       "50    29\n",
       "51    29\n",
       "47    29\n",
       "46    29\n",
       "45    29\n",
       "20    29\n",
       "48    29\n",
       "52    29\n",
       "22    28\n",
       "49    28\n",
       "54    28\n",
       "53    28\n",
       "21    28\n",
       "26    28\n",
       "24    28\n",
       "25    28\n",
       "28    28\n",
       "27    28\n",
       "23    28\n",
       "43    27\n",
       "29    27\n",
       "30    27\n",
       "41    27\n",
       "42    27\n",
       "44    27\n",
       "31    27\n",
       "40    27\n",
       "32    26\n",
       "33    26\n",
       "56    26\n",
       "34    26\n",
       "55    26\n",
       "57    26\n",
       "37    25\n",
       "59    25\n",
       "58    25\n",
       "36    25\n",
       "38    25\n",
       "35    25\n",
       "39    25\n",
       "61    23\n",
       "60    23\n",
       "63    23\n",
       "62    23\n",
       "64    22\n",
       "Name: count, dtype: int64"
      ]
     },
     "execution_count": 23,
     "metadata": {},
     "output_type": "execute_result"
    }
   ],
   "source": [
    "# Does age have any barrier on the insurance claimed\n",
    "merge.age.value_counts()"
   ]
  },
  {
   "cell_type": "markdown",
   "id": "c296db03-7499-4960-8f3c-50ce38368d2b",
   "metadata": {},
   "source": [
    "### we have ages for cover 18-64"
   ]
  },
  {
   "cell_type": "code",
   "execution_count": 24,
   "id": "23f094a0-8277-4dd3-b0f7-79f173690156",
   "metadata": {},
   "outputs": [
    {
     "data": {
      "text/plain": [
       "<Axes: xlabel='age', ylabel='count'>"
      ]
     },
     "execution_count": 24,
     "metadata": {},
     "output_type": "execute_result"
    },
    {
     "data": {
      "image/png": "[encoded data removed]",
      "text/plain": [
       "<Figure size 1200x300 with 1 Axes>"
      ]
     },
     "metadata": {},
     "output_type": "display_data"
    }
   ],
   "source": [
    "plt.figure(figsize=(12,3))\n",
    "sns.barplot(merge.age.value_counts())"
   ]
  },
  {
   "cell_type": "markdown",
   "id": "9c1bdbaa-98a6-44d6-a5ae-2d66c79866ca",
   "metadata": {},
   "source": [
    "`Observation`: most of the policy taken by 18 & 19 years old, whereas people of age 64 are least buyer of policy, beside these ages all have approximatly equal no number of buyer, Therefore no imapct of ages on policy.<br>\n",
    "As 18,19 are so exited for policy cover<br>\n",
    "But 64 aged are demotited to take policy as it is the last year to take policy "
   ]
  },
  {
   "cell_type": "code",
   "execution_count": 25,
   "id": "a5ef8b0e-27e1-456a-baad-57641ad4c989",
   "metadata": {},
   "outputs": [
    {
     "data": {
      "text/plain": [
       "bmi\n",
       "32.300    13\n",
       "28.310     9\n",
       "30.495     8\n",
       "30.875     8\n",
       "31.350     8\n",
       "          ..\n",
       "46.200     1\n",
       "23.800     1\n",
       "44.770     1\n",
       "32.120     1\n",
       "30.970     1\n",
       "Name: count, Length: 548, dtype: int64"
      ]
     },
     "execution_count": 25,
     "metadata": {},
     "output_type": "execute_result"
    }
   ],
   "source": [
    "# Can the company extend certain discounts after checking the health status (BMI) in this case\n",
    "merge.bmi.value_counts()"
   ]
  },
  {
   "cell_type": "code",
   "execution_count": 26,
   "id": "059de755-24d9-4dbb-a345-3a6f1d221eee",
   "metadata": {},
   "outputs": [
    {
     "data": {
      "text/plain": [
       "<Axes: xlabel='bmi', ylabel='count'>"
      ]
     },
     "execution_count": 26,
     "metadata": {},
     "output_type": "execute_result"
    },
    {
     "data": {
      "image/png": "[encoded data removed]",
      "text/plain": [
       "<Figure size 640x480 with 1 Axes>"
      ]
     },
     "metadata": {},
     "output_type": "display_data"
    }
   ],
   "source": [
    "sns.barplot(merge.bmi.value_counts())"
   ]
  },
  {
   "cell_type": "markdown",
   "id": "04d10ad6-feea-4324-9281-ebb7abe55fb0",
   "metadata": {},
   "source": [
    "`Observation`: BMI having low and high are less attracted to buy policy, so discount can be provide to them "
   ]
  }
 ],
 "metadata": {
  "kernelspec": {
   "display_name": "Python 3 (ipykernel)",
   "language": "python",
   "name": "python3"
  },
  "language_info": {
   "codemirror_mode": {
    "name": "ipython",
    "version": 3
   },
   "file_extension": ".py",
   "mimetype": "text/x-python",
   "name": "python",
   "nbconvert_exporter": "python",
   "pygments_lexer": "ipython3",
   "version": "3.12.1"
  }
 },
 "nbformat": 4,
 "nbformat_minor": 5
}
